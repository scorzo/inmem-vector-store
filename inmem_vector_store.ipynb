{
  "nbformat": 4,
  "nbformat_minor": 0,
  "metadata": {
    "colab": {
      "provenance": [],
      "authorship_tag": "ABX9TyM/SwVkrylz0f0xgvx7Gbct",
      "include_colab_link": true
    },
    "kernelspec": {
      "name": "python3",
      "display_name": "Python 3"
    },
    "language_info": {
      "name": "python"
    }
  },
  "cells": [
    {
      "cell_type": "markdown",
      "metadata": {
        "id": "view-in-github",
        "colab_type": "text"
      },
      "source": [
        "<a href=\"https://colab.research.google.com/github/scorzo/inmem-vector-store/blob/main/inmem_vector_store.ipynb\" target=\"_parent\"><img src=\"https://colab.research.google.com/assets/colab-badge.svg\" alt=\"Open In Colab\"/></a>"
      ]
    },
    {
      "cell_type": "code",
      "source": [
        "!pip install pandas\n",
        "!pip install langchain\n",
        "!pip install sentence-transformers\n",
        "!pip install chromadb"
      ],
      "metadata": {
        "id": "fcfBIqtgD6Ty"
      },
      "execution_count": null,
      "outputs": []
    },
    {
      "cell_type": "code",
      "execution_count": null,
      "metadata": {
        "id": "6oIx5eifCzUW"
      },
      "outputs": [],
      "source": [
        "import pandas as pd\n",
        "from langchain.document_loaders import DataFrameLoader\n",
        "from langchain.embeddings.sentence_transformer import SentenceTransformerEmbeddings\n",
        "from langchain.text_splitter import CharacterTextSplitter\n",
        "from langchain.vectorstores import Chroma\n",
        "\n",
        "# Read the CSV file into a DataFrame\n",
        "support_tickets_df = pd.read_csv(\"sample_data/support_tickets.csv\")\n",
        "\n",
        "# Add the `text` column to the DataFrame\n",
        "support_tickets_df[\"text\"] = support_tickets_df[\"Support Issue Description\"]\n",
        "\n",
        "# Load the DataFrame using DataFrameLoader\n",
        "loader = DataFrameLoader(support_tickets_df)\n",
        "documents = loader.load()\n",
        "\n",
        "# Split the documents into chunks (if needed)\n",
        "text_splitter = CharacterTextSplitter(chunk_size=1000, chunk_overlap=0)\n",
        "docs = text_splitter.split_documents(documents)\n",
        "\n",
        "# Create the open-source embedding function\n",
        "embedding_function = SentenceTransformerEmbeddings(model_name=\"all-MiniLM-L6-v2\")\n",
        "\n",
        "# Load the documents into Chroma\n",
        "db = Chroma.from_documents(docs, embedding_function)\n",
        "\n",
        "# Example query: find similar issues\n",
        "query = \"Computer issues with video conferencing\"\n",
        "docs = db.similarity_search(query)\n",
        "\n",
        "# Print results (ticket ID and issue description)\n",
        "for doc in docs:\n",
        "    print(f\"Ticket ID: {doc.metadata['Ticket ID']}, Issue: {doc.metadata['Support Issue Description']}\")"
      ]
    }
  ]
}